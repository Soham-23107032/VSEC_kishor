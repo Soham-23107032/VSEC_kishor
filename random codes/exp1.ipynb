{
 "cells": [
  {
   "cell_type": "code",
   "execution_count": 2,
   "metadata": {},
   "outputs": [],
   "source": [
    "import pandas as pd"
   ]
  },
  {
   "cell_type": "code",
   "execution_count": 3,
   "metadata": {},
   "outputs": [
    {
     "name": "stdout",
     "output_type": "stream",
     "text": [
      "{'name': ['python', 'cpp'], 'Author': ['mark', 'rober'], 'Price': [111, 232]}\n"
     ]
    }
   ],
   "source": [
    "user_dict ={\n",
    "    \"name\":[],\n",
    "    \"Author\":[],\n",
    "    \"Price\":[]\n",
    "}\n",
    "n= int(input(\"How many books do you want to enter?: \"))\n",
    "for i in range(n):\n",
    "    name = input(\"Enter a book name: \")\n",
    "    Author = input(\"Enter a Author: \")\n",
    "    Price = int(input(\"Enter a Price: \"))\n",
    "    user_dict[\"name\"].append(name)\n",
    "    user_dict[\"Author\"].append(Author)\n",
    "    user_dict[\"Price\"].append(Price)\n",
    "\n",
    "print(user_dict)"
   ]
  },
  {
   "cell_type": "code",
   "execution_count": 4,
   "metadata": {},
   "outputs": [
    {
     "name": "stdout",
     "output_type": "stream",
     "text": [
      "     name Author  Price\n",
      "0  python   mark    111\n",
      "1     cpp  rober    232\n"
     ]
    }
   ],
   "source": [
    "df=pd.DataFrame(user_dict)\n",
    "print(df)"
   ]
  },
  {
   "cell_type": "code",
   "execution_count": 12,
   "metadata": {},
   "outputs": [
    {
     "ename": "NameError",
     "evalue": "name 'df' is not defined",
     "output_type": "error",
     "traceback": [
      "\u001b[1;31m---------------------------------------------------------------------------\u001b[0m",
      "\u001b[1;31mNameError\u001b[0m                                 Traceback (most recent call last)",
      "Cell \u001b[1;32mIn[12], line 1\u001b[0m\n\u001b[1;32m----> 1\u001b[0m \u001b[38;5;28mprint\u001b[39m(\u001b[43mdf\u001b[49m\u001b[38;5;241m.\u001b[39mdescribe())\n",
      "\u001b[1;31mNameError\u001b[0m: name 'df' is not defined"
     ]
    }
   ],
   "source": [
    "print(df.describe())"
   ]
  },
  {
   "cell_type": "code",
   "execution_count": null,
   "metadata": {},
   "outputs": [],
   "source": []
  },
  {
   "cell_type": "code",
   "execution_count": null,
   "metadata": {},
   "outputs": [],
   "source": []
  }
 ],
 "metadata": {
  "kernelspec": {
   "display_name": "Python 3",
   "language": "python",
   "name": "python3"
  },
  "language_info": {
   "codemirror_mode": {
    "name": "ipython",
    "version": 3
   },
   "file_extension": ".py",
   "mimetype": "text/x-python",
   "name": "python",
   "nbconvert_exporter": "python",
   "pygments_lexer": "ipython3",
   "version": "3.11.0"
  }
 },
 "nbformat": 4,
 "nbformat_minor": 2
}
